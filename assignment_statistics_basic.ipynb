{
 "cells": [
  {
   "cell_type": "code",
   "execution_count": 1,
   "id": "37510fc3-abfb-44fb-8ea9-eea9db9174a8",
   "metadata": {},
   "outputs": [
    {
     "name": "stdout",
     "output_type": "stream",
     "text": [
      "* ASSIGNMENT_STATISTICS_BASIC *\n"
     ]
    }
   ],
   "source": [
    "print(\"* ASSIGNMENT_STATISTICS_BASIC *\")"
   ]
  },
  {
   "cell_type": "code",
   "execution_count": 3,
   "id": "2c65809f-5433-42a4-94af-5e2e7a46a732",
   "metadata": {},
   "outputs": [
    {
     "name": "stdout",
     "output_type": "stream",
     "text": [
      "Q_1_ANS : - STATISTICS : - Statistics is the science of collecting and organizing and anylazing data. \n"
     ]
    }
   ],
   "source": [
    "print(\"Q_1_ANS : - STATISTICS : - Statistics is the science of collecting and organizing and anylazing data. \")"
   ]
  },
  {
   "cell_type": "code",
   "execution_count": 5,
   "id": "037467f3-01b3-42ef-9908-2470007c8cfc",
   "metadata": {},
   "outputs": [
    {
     "name": "stdout",
     "output_type": "stream",
     "text": [
      "Q_2_ANS : - There are two types of statistics :-\n",
      "1. Discriptive Statistic :-\n",
      "\n",
      "def :- its consist of organizing and summering data. \n",
      "\n",
      "x = [1,2,3,4,5]\n",
      "find mean:-\n",
      "N = 15/5\n",
      "N = 3\n",
      "x = [1,2,[3],4,5]\n",
      "\n",
      "2. Inferential Statistic :-\n",
      "\n",
      "def :- its constist of using data you have verised of fron constant.\n",
      "\n",
      " [Sample data] ------> [Population data]\n",
      "Sample is a subpart of population data. \n"
     ]
    }
   ],
   "source": [
    "print(\"Q_2_ANS : - There are two types of statistics :-\\n1. Discriptive Statistic :-\\n\\ndef :- its consist of organizing and summering data. \\n\\nx = [1,2,3,4,5]\\nfind mean:-\\nN = 15/5\\nN = 3\\nx = [1,2,[3],4,5]\\n\\n2. Inferential Statistic :-\\n\\ndef :- its constist of using data you have verised of fron constant.\\n\\n [Sample data] ------> [Population data]\\nSample is a subpart of population data. \")"
   ]
  },
  {
   "cell_type": "code",
   "execution_count": 1,
   "id": "ea1e3c18-f1f5-484b-8cea-c77c7124a420",
   "metadata": {},
   "outputs": [
    {
     "name": "stdout",
     "output_type": "stream",
     "text": [
      "Q_3_ANS : - Two types Data :-\n",
      "\n",
      "1. Quantitative Data\n",
      "\n",
      "Two types of Quantitative data :-\n",
      "1. Dist\n",
      "[Int]\n",
      "Like This :-[3,56,75]\n",
      "\n",
      "2. Continous[Float]\n",
      "Like This :-[3.4,5.6,7.5]\n",
      "\n",
      "2. Qulitative Data\n",
      "\n",
      "Two types of Qulitative data :-\n",
      "1. Normal[No rank]\n",
      "Like this surway of colors :- \n",
      " blue -->50% \n",
      " orange -->30% \n",
      " green -->20%\n",
      "\n",
      "2. Ordinary[Rank]\n",
      "Like this Feedback :- Better , Good , Bad  \n"
     ]
    }
   ],
   "source": [
    "print(\"Q_3_ANS : - Two types Data :-\\n\\n1. Quantitative Data\\n\\nTwo types of Quantitative data :-\\n1. Dist\\n[Int]\\nLike This :-[3,56,75]\\n\\n2. Continous[Float]\\nLike This :-[3.4,5.6,7.5]\\n\\n2. Qulitative Data\\n\\nTwo types of Qulitative data :-\\n1. Normal[No rank]\\nLike this surway of colors :- \\n blue -->50% \\n orange -->30% \\n green -->20%\\n\\n2. Ordinary[Rank]\\nLike this Feedback :- Better , Good , Bad  \")"
   ]
  },
  {
   "cell_type": "code",
   "execution_count": 2,
   "id": "4233d5e5-324f-45db-87b3-ab5c9b86f4dc",
   "metadata": {},
   "outputs": [
    {
     "name": "stdout",
     "output_type": "stream",
     "text": [
      "Q_4_ANS : - Gradeing in Exam : A+,A,B+,B,C+,C,D,E\n",
      " this is Ordinary Data in Qulitative Data\n",
      "\n",
      "Colour of mangoes : yello , green , orange , red \n",
      "this is Normal Data in Qulitative Data\n",
      "\n",
      "Height data of a class[178.9 , 179 , 179.5 , 176 , 177.2 , 178.3 , 175,8 , ...]\n",
      "this is Continuous data in Quantative data \n",
      "\n",
      "Nuber of mangoes exported by a farm: [500 , 600 , 478 , 672 , ...]\n",
      "this is Distrist data in Quentative data\n",
      "\n"
     ]
    }
   ],
   "source": [
    "print(\"Q_4_ANS : - Gradeing in Exam : A+,A,B+,B,C+,C,D,E\\n this is Ordinary Data in Qulitative Data\\n\\nColour of mangoes : yello , green , orange , red \\nthis is Normal Data in Qulitative Data\\n\\nHeight data of a class[178.9 , 179 , 179.5 , 176 , 177.2 , 178.3 , 175,8 , ...]\\nthis is Continuous data in Quantative data \\n\\nNuber of mangoes exported by a farm: [500 , 600 , 478 , 672 , ...]\\nthis is Distrist data in Quentative data\\n\")"
   ]
  },
  {
   "cell_type": "code",
   "execution_count": 6,
   "id": "b8dcf4af-ba85-4429-91b8-2b0c49177f1e",
   "metadata": {},
   "outputs": [
    {
     "name": "stdout",
     "output_type": "stream",
     "text": [
      "Q_5_ANS : - 1. Nominal Scale data\n",
      "2.Ordinal scale data  \n",
      "3. Internal scale data \n",
      "4. Ratio scale data  \n",
      "\n",
      "1.Nominal scale data :-\n",
      "Steps :-\n",
      "1. Qulatative / Categorical\n",
      "2.Gender , Colors , Labels\n",
      "3.Order does not matter \n",
      "Example :-\n",
      "this surway of colors :- \n",
      " blue -->50% \n",
      " white -->30% \n",
      " green -->20%\n",
      "\n",
      "2. Ordinal scale data :-\n",
      "Steps :-\n",
      "1.Ranking is important\n",
      "2.Order is matter\n",
      "3.Difference not measure  \n",
      "Example :- \n",
      "Feedback :-\n",
      "Better , Good , Bad\n",
      "\n",
      "3.  Internal scale data :-\n",
      "Steps :- \n",
      "1.the order matter\n",
      "2. difference can be measure\n",
      "3.ratio cannot be measure\n",
      "4.no true 0 starting point\n",
      "Example :-\n",
      "Like Temprature variable \n",
      "\n",
      "4. Ratio scale data :-\n",
      "Steps :- \n",
      "1.the order matter\n",
      "2. difference can be measure\n",
      "3.ratio can be measure\n",
      "4.contains a 0 starting point\n",
      "Example :-\n",
      "Like Student marks in class\n"
     ]
    }
   ],
   "source": [
    "print(\"Q_5_ANS : - 1. Nominal Scale data\\n2.Ordinal scale data  \\n3. Internal scale data \\n4. Ratio scale data  \\n\\n1.Nominal scale data :-\\nSteps :-\\n1. Qulatative / Categorical\\n2.Gender , Colors , Labels\\n3.Order does not matter \\nExample :-\\nthis surway of colors :- \\n blue -->50% \\n white -->30% \\n green -->20%\\n\\n2. Ordinal scale data :-\\nSteps :-\\n1.Ranking is important\\n2.Order is matter\\n3.Difference not measure  \\nExample :- \\nFeedback :-\\nBetter , Good , Bad\\n\\n3.  Internal scale data :-\\nSteps :- \\n1.the order matter\\n2. difference can be measure\\n3.ratio cannot be measure\\n4.no true 0 starting point\\nExample :-\\nLike Temprature variable \\n\\n4. Ratio scale data :-\\nSteps :- \\n1.the order matter\\n2. difference can be measure\\n3.ratio can be measure\\n4.contains a 0 starting point\\nExample :-\\nLike Student marks in class\")"
   ]
  },
  {
   "cell_type": "code",
   "execution_count": 11,
   "id": "678948d4-0309-46db-9d63-86696c9aafb5",
   "metadata": {},
   "outputs": [
    {
     "name": "stdout",
     "output_type": "stream",
     "text": [
      "Q_6_ANS : - we are understand the lavel of measurement, because we can take proper decization and we can find conclution\n",
      " Like this surway of colors :- \n",
      " blue -->50% \n",
      " white -->30% \n",
      " green -->20%\n",
      "\n",
      "Conclution :- \n",
      " i am manifacture 50% of blue body mobiles,\n",
      "30% of white body mobiles,\n",
      "20% of green body mobiles \n",
      "\n",
      "because people fav color\n"
     ]
    }
   ],
   "source": [
    "print(\"Q_6_ANS : - we are understand the lavel of measurement, because we can take proper decization and we can find conclution\\n Like this surway of colors :- \\n blue -->50% \\n white -->30% \\n green -->20%\\n\\nConclution :- \\n i am manifacture 50% of blue body mobiles,\\n30% of white body mobiles,\\n20% of green body mobiles \\n\\nbecause people fav color\")"
   ]
  },
  {
   "cell_type": "code",
   "execution_count": 13,
   "id": "81908719-03b2-4c94-bf57-29a031662fa7",
   "metadata": {},
   "outputs": [
    {
     "name": "stdout",
     "output_type": "stream",
     "text": [
      "Q_7_ANS : - Nominal :- Nominal data has no rank,it is normal data \n",
      "Example :-\n",
      "this surway of fruits :- \n",
      " mangoes -->50% sold \n",
      " orange -->30% sold \n",
      " apple -->20% sold\n",
      "\n",
      "Ordinal :-\n",
      "Oedinal data has rank,it is compairation data\n",
      "Example :-\n",
      "Gradeing in Exam : A+,A,B+,B,C+,C,D,E\n"
     ]
    }
   ],
   "source": [
    "print(\"Q_7_ANS : - Nominal :- Nominal data has no rank,it is normal data \\nExample :-\\nthis surway of fruits :- \\n mangoes -->50% sold \\n orange -->30% sold \\n apple -->20% sold\\n\\nOrdinal :-\\nOedinal data has rank,it is compairation data\\nExample :-\\nGradeing in Exam : A+,A,B+,B,C+,C,D,E\")"
   ]
  },
  {
   "cell_type": "code",
   "execution_count": 14,
   "id": "21ebe0e2-8dab-4e7a-b0de-b18554657e64",
   "metadata": {},
   "outputs": [
    {
     "name": "stdout",
     "output_type": "stream",
     "text": [
      "Q_8_ANS : - Histogram  :- If the groups depicted in a bar chart are actually continuous numeric ranges, we can push the bars together to generate a histogram. Bar lengths in histograms typically correspond to counts of data points, and their patterns demonstrate the distribution of variables in your data. \n"
     ]
    }
   ],
   "source": [
    "print(\"Q_8_ANS : - Histogram  :- If the groups depicted in a bar chart are actually continuous numeric ranges, we can push the bars together to generate a histogram. Bar lengths in histograms typically correspond to counts of data points, and their patterns demonstrate the distribution of variables in your data. \")"
   ]
  },
  {
   "cell_type": "code",
   "execution_count": 18,
   "id": "cbd5a1ef-1aa9-4ea7-9d88-f7828bb39b5d",
   "metadata": {},
   "outputs": [
    {
     "name": "stdout",
     "output_type": "stream",
     "text": [
      "Q_9_ANS : -  There are two types of statistics :-\n",
      "1. Discriptive Statistic :-\n",
      "\n",
      "def :- its consist of organizing and summering data.\n",
      "\n",
      " Discriptive Statistic types :- \n",
      "\n",
      "1.1 Measure of central tendency\n",
      "[mean , median , mode]\n",
      "x = [1,2,3,4,5]\n",
      "find mean:-\n",
      "N = 15/5\n",
      "N = 3\n",
      "x = [1,2,[3],4,5]\n",
      "\n",
      "1.2 Measure of dispertion \n",
      "Std :- \n",
      "speed = [86,87,88,86,87,85,86]\n",
      "x = numpy.std(speed)\n",
      "print(x)\n",
      "\n",
      "1.3 Diff type of Distributed data \n",
      " Examples :- \n",
      " Histogram \n",
      "pdf\n",
      "pm function\n",
      "\n",
      "2. Inferential Statistic :-\n",
      "\n",
      "def :- its constist of using data you have verised of fron constant.\n",
      "\n",
      " [Sample data] ------> [Population data]\n",
      "Sample is a subpart of population data. \n"
     ]
    }
   ],
   "source": [
    "print(\"Q_9_ANS : -  There are two types of statistics :-\\n1. Discriptive Statistic :-\\n\\ndef :- its consist of organizing and summering data.\\n\\n Discriptive Statistic types :- \\n\\n1.1 Measure of central tendency\\n[mean , median , mode]\\nx = [1,2,3,4,5]\\nfind mean:-\\nN = 15/5\\nN = 3\\nx = [1,2,[3],4,5]\\n\\n1.2 Measure of dispertion \\nStd :- \\nspeed = [86,87,88,86,87,85,86]\\nx = numpy.std(speed)\\nprint(x)\\n\\n1.3 Diff type of Distributed data \\n Examples :- \\n Histogram \\npdf\\npm function\\n\\n2. Inferential Statistic :-\\n\\ndef :- its constist of using data you have verised of fron constant.\\n\\n [Sample data] ------> [Population data]\\nSample is a subpart of population data. \")"
   ]
  },
  {
   "cell_type": "code",
   "execution_count": 19,
   "id": "309e0261-6c7b-43ff-8aab-3e75cbe1b42f",
   "metadata": {},
   "outputs": [
    {
     "name": "stdout",
     "output_type": "stream",
     "text": [
      "Q_10_ANS : - Central tendency and variation are two measures used in statistics to summarize data. Measure of central tendency shows where the center or middle of the data set is located, whereas measure of variation shows the dispersion among data values. \n"
     ]
    }
   ],
   "source": [
    "print(\"Q_10_ANS : - Central tendency and variation are two measures used in statistics to summarize data. Measure of central tendency shows where the center or middle of the data set is located, whereas measure of variation shows the dispersion among data values. \")"
   ]
  },
  {
   "cell_type": "code",
   "execution_count": null,
   "id": "a710e0ae-c0dc-4fbd-b6bc-9e9e82e20589",
   "metadata": {},
   "outputs": [],
   "source": []
  }
 ],
 "metadata": {
  "kernelspec": {
   "display_name": "Python 3 (ipykernel)",
   "language": "python",
   "name": "python3"
  },
  "language_info": {
   "codemirror_mode": {
    "name": "ipython",
    "version": 3
   },
   "file_extension": ".py",
   "mimetype": "text/x-python",
   "name": "python",
   "nbconvert_exporter": "python",
   "pygments_lexer": "ipython3",
   "version": "3.10.6"
  }
 },
 "nbformat": 4,
 "nbformat_minor": 5
}
